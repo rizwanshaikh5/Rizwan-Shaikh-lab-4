{
 "cells": [
  {
   "cell_type": "code",
   "execution_count": 1,
   "metadata": {},
   "outputs": [
    {
     "name": "stdout",
     "output_type": "stream",
     "text": [
      "Enter a: 22\n",
      "Enter b: 23\n",
      "Enter c: 43\n",
      "The solution are (-0.5227272727272727-1.2966501659632648j) and (-0.5227272727272727+1.2966501659632648j)\n"
     ]
    }
   ],
   "source": [
    "import cmath\n",
    "\n",
    "a = float(input('Enter a: '))\n",
    "b = float(input('Enter b: '))\n",
    "c = float(input('Enter c: '))\n",
    "\n",
    "d = (b**2) - (4*a*c)\n",
    "\n",
    "# two solutions\n",
    "sol1 = (-b-cmath.sqrt(d))/(2*a)\n",
    "sol2 = (-b+cmath.sqrt(d))/(2*a)\n",
    "\n",
    "print('The solution are {0} and {1}'.format(sol1,sol2))"
   ]
  },
  {
   "cell_type": "code",
   "execution_count": 5,
   "metadata": {},
   "outputs": [
    {
     "name": "stdout",
     "output_type": "stream",
     "text": [
      "Enter the first term of the sequance :1\n",
      "Enter the common difference of the sequance :3\n",
      "Enter nth term you want to know :5\n",
      "13\n",
      "Enter yes if you want to find another\n",
      "Noneyes\n",
      "Enter nth term you want to know :78\n",
      "232\n",
      "Enter yes if you want to find another\n",
      "Noneyes\n",
      "Enter nth term you want to know :99\n",
      "295\n",
      "Enter yes if you want to find another\n",
      "Noneno\n"
     ]
    }
   ],
   "source": [
    "first = eval(input(\"Enter the first term of the sequance :\"))\n",
    "diff = eval(input(\"Enter the common difference of the sequance :\"))\n",
    "n = eval(input(\"Enter nth term you want to know :\"))\n",
    "\n",
    "\n",
    "nterm = (first + (n-1)*diff)\n",
    "         \n",
    "print(nterm)\n",
    "\n",
    "a = input(print(\"Enter yes if you want to find another\"))\n",
    "    \n",
    "while a == 'yes':\n",
    "    n = eval(input(\"Enter nth term you want to know :\"))\n",
    "    nterm = (first + (n-1)*diff)\n",
    "    print(nterm)\n",
    "    a = input(print(\"Enter yes if you want to find another\"))  "
   ]
  },
  {
   "cell_type": "code",
   "execution_count": 3,
   "metadata": {},
   "outputs": [
    {
     "name": "stdout",
     "output_type": "stream",
     "text": [
      "Enter String you want to know if it's palindrome :mom\n",
      "The word  mom  is palindrome\n"
     ]
    }
   ],
   "source": [
    "word = str(input(\"Enter String you want to know if it's palindrome :\"))\n",
    "rword= ''.join(reversed(word))\n",
    "\n",
    "\n",
    "if word == rword:\n",
    "    print(\"The word \",word,\" is palindrome\")\n",
    "else:\n",
    "    print(\"Sorry \",word,\" is not palindrome\")"
   ]
  },
  {
   "cell_type": "code",
   "execution_count": 4,
   "metadata": {},
   "outputs": [
    {
     "name": "stdout",
     "output_type": "stream",
     "text": [
      "Enter your name : Rizwan Shaikh\n",
      "Enter your father name : Sadullah Shaikh\n",
      "Enter your roll number : 12345\n",
      "Enter your marks in english : 89\n",
      "Enter your marks in urdu : 78\n",
      "Enter your marks in math : 88\n",
      "Enter your marks in science : 99\n",
      "Enter your marks in drawing : 100\n",
      "Name =  Rizwan Shaikh                                  Roll Number = 12345\n",
      "Father name =  Sadullah Shaikh\n",
      "Marks in English =  89\n",
      "Marks in Urdu =  78\n",
      "Marks in Math =  88\n",
      "Marks in Sience =  99\n",
      "Marks in drawing =  100\n",
      "A grade\n"
     ]
    }
   ],
   "source": [
    "name = input(\"Enter your name : \")\n",
    "fname = input(\"Enter your father name : \")\n",
    "rollno = int(input(\"Enter your roll number : \"))\n",
    "english1 = int(input(\"Enter your marks in english : \"))\n",
    "urdu2 = int(input(\"Enter your marks in urdu : \"))\n",
    "math3 = int(input(\"Enter your marks in math : \"))\n",
    "science4 = int(input(\"Enter your marks in science : \"))\n",
    "drawing5 = int(input(\"Enter your marks in drawing : \"))\n",
    "total_marks = 100\n",
    "obtained = (english1 + math3 + urdu2 + science4 + drawing5 )\n",
    "print('Name = ' , name,'                                ' , 'Roll Number =', rollno)\n",
    "print(\"Father name = \", fname)\n",
    "print(\"Marks in English = \", english1)\n",
    "print(\"Marks in Urdu = \" , urdu2)\n",
    "print(\"Marks in Math = \" , math3)\n",
    "print(\"Marks in Sience = \" , science4)\n",
    "print(\"Marks in drawing = \" , drawing5)\n",
    "\n",
    "if ( obtained >= 400 ) :\n",
    "    print(\"A grade\")\n",
    "if (obtained < 400):\n",
    "    print(\"B grade\")"
   ]
  },
  {
   "cell_type": "code",
   "execution_count": 7,
   "metadata": {},
   "outputs": [
    {
     "name": "stdout",
     "output_type": "stream",
     "text": [
      "Enter Initial Value : 1\n",
      "Enter final value : 8\n",
      "1 2 3 4 5 6 7 8 \n",
      "\n",
      "2 4 6 8 10 12 14 16 \n",
      "\n",
      "3 6 9 12 15 18 21 24 \n",
      "\n",
      "4 8 12 16 20 24 28 32 \n",
      "\n",
      "5 10 15 20 25 30 35 40 \n",
      "\n",
      "6 12 18 24 30 36 42 48 \n",
      "\n",
      "7 14 21 28 35 42 49 56 \n",
      "\n",
      "8 16 24 32 40 48 56 64 \n",
      "\n"
     ]
    }
   ],
   "source": [
    "initial=eval(input(\"Enter Initial Value : \"))\n",
    "final=eval(input(\"Enter final value : \"))\n",
    "\n",
    "\n",
    "for i in range(initial,final+1):\n",
    "    for j in range(1,final+1):\n",
    "        k = i * j\n",
    "        print(k,end=(' '))\n",
    "    print(\"\\n\")"
   ]
  },
  {
   "cell_type": "code",
   "execution_count": 9,
   "metadata": {},
   "outputs": [
    {
     "name": "stdout",
     "output_type": "stream",
     "text": [
      "Multiplication\n",
      " Enter Value of matrix X at  [0] [0]\n",
      "None0\n",
      " Enter Value of matrix X at  [0] [1]\n",
      "None1\n",
      " Enter Value of matrix X at  [1] [0]\n",
      "None0\n",
      " Enter Value of matrix X at  [1] [1]\n",
      "None1\n",
      " Enter Value of matrix Y at  [0] [0]\n",
      "None0\n",
      " Enter Value of matrix Y at  [0] [1]\n",
      "None1\n",
      " Enter Value of matrix Y at  [1] [0]\n",
      "None0\n",
      " Enter Value of matrix Y at  [1] [1]\n",
      "None1\n",
      "[0, 1]\n",
      "[0, 1]\n",
      "addition\n",
      " Enter Value of matrix X at  [0] [0]\n",
      "None0\n",
      " Enter Value of matrix X at  [0] [1]\n",
      "None1\n",
      " Enter Value of matrix X at  [1] [0]\n",
      "None0\n",
      " Enter Value of matrix X at  [1] [1]\n",
      "None1\n",
      " Enter Value of matrix Y at  [0] [0]\n",
      "None0\n",
      " Enter Value of matrix Y at  [0] [1]\n",
      "None1\n",
      " Enter Value of matrix Y at  [1] [0]\n",
      "None0\n",
      " Enter Value of matrix Y at  [1] [1]\n",
      "None1\n",
      "[0, 2]\n",
      "[0, 2]\n"
     ]
    }
   ],
   "source": [
    "def addition():\n",
    "        #input for values of x \n",
    "    x = [[0,0],\n",
    "        [0,0]]\n",
    "\n",
    "    for i in range(0,2):\n",
    "        for j in range(0,2):\n",
    "            x[i][j] = eval(input(print(\" Enter Value of matrix X at \",[i],[j])))\n",
    "\n",
    "    #input for values of y\n",
    "    Y = [[0,0],\n",
    "        [0,0]]\n",
    "\n",
    "    for i in range(0,2):\n",
    "        for j in range(0,2):\n",
    "            Y[i][j] = eval(input(print(\" Enter Value of matrix Y at \",[i],[j])))\n",
    "\n",
    "    result = [[0,0],\n",
    "             [0,0]]    \n",
    "    for i in range(0,2):\n",
    "        for j in range(0,2):\n",
    "            result[i][j] = x[i][j] + Y[i][j]\n",
    "    for r in result:\n",
    "        print(r)    \n",
    "    \n",
    "def multiplication():\n",
    "        #input for values of x \n",
    "    x = [[0,0],\n",
    "        [0,0]]\n",
    "\n",
    "    for i in range(0,2):\n",
    "        for j in range(0,2):\n",
    "            x[i][j] = eval(input(print(\" Enter Value of matrix X at \",[i],[j])))\n",
    "\n",
    "    #input for values of y\n",
    "    Y = [[0,0],\n",
    "        [0,0]]\n",
    "\n",
    "    for i in range(0,2):\n",
    "        for j in range(0,2):\n",
    "            Y[i][j] = eval(input(print(\" Enter Value of matrix Y at \",[i],[j])))\n",
    "\n",
    "    result = [[0,0],\n",
    "             [0,0]]\n",
    "    for i in range(len(x)):\n",
    "       # iterate through columns of Y\n",
    "       for j in range(len(Y[0])):\n",
    "           # iterate through rows of Y\n",
    "           for k in range(len(Y)):\n",
    "                result[i][j] =result[i][j]+ (x[i][k] * Y[k][j])\n",
    "    for r in result:\n",
    "        print(r)   \n",
    "print(\"Multiplication\")        \n",
    "multiplication()\n",
    "print(\"addition\")\n",
    "addition()"
   ]
  }
 ],
 "metadata": {
  "kernelspec": {
   "display_name": "Python 3",
   "language": "python",
   "name": "python3"
  },
  "language_info": {
   "codemirror_mode": {
    "name": "ipython",
    "version": 3
   },
   "file_extension": ".py",
   "mimetype": "text/x-python",
   "name": "python",
   "nbconvert_exporter": "python",
   "pygments_lexer": "ipython3",
   "version": "3.7.3"
  }
 },
 "nbformat": 4,
 "nbformat_minor": 2
}
